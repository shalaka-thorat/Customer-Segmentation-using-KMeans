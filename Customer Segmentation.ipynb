{
 "cells": [
  {
   "cell_type": "markdown",
   "id": "3982d25b",
   "metadata": {},
   "source": [
    "## Steps Involved in Creating end-to-end Machine Learning Algorithm:\n",
    "\n",
    "1) Importing basic Libraries<br>\n",
    "2) Importing the data<br>\n",
    "3) Getting an understanding about the data with which you are working<br>\n",
    "4) Getting an understanding about the problem that you are trying to solve<br>\n",
    "5) Rigorous EDA (Visualization etc) -> Patterns<br>\n",
    "6) Patterns -> Shortlist the probable list of ML Algorithms (2-3)<br>\n",
    "7) Creating separate Jupyter Notebooks for pre-processing the data for 2-3 algorithms<br>\n",
    "&nbsp;&nbsp;&nbsp;&nbsp; Data Prepration (Assumptions and Limitations of ML Algorithm should be satisfied)<br>\n",
    "8) Feature Engineering (Deriving new features having better correlation with Target)<br>\n",
    "9) Feature Selection<br>\n",
    "10) Train Test Split<br>\n",
    "11) Training/Fitting the ML Model<br>\n",
    "12) Predicting from the Pretrained Model<br>\n",
    "13) Evaluating the model<br>\n",
    "14) Optimization Methods -> If results of model evaulation don't meet your criteria<br>\n",
    "15) Deploy the model production -> MLOps<br>\n",
    "16) Maitenance work of the Model<br>"
   ]
  },
  {
   "cell_type": "code",
   "execution_count": 14,
   "id": "0af22631",
   "metadata": {},
   "outputs": [],
   "source": [
    "# Importing Important Libraries\n",
    "\n",
    "import pandas as pd\n",
    "import numpy as np\n",
    "from sklearn import preprocessing\n",
    "from sklearn.preprocessing import MinMaxScaler, StandardScaler\n",
    "from sklearn.cluster import KMeans\n",
    "from scipy.spatial.distance import cdist\n",
    "from sklearn import metrics\n",
    "import matplotlib.pyplot as plt\n",
    "%matplotlib inline"
   ]
  },
  {
   "cell_type": "code",
   "execution_count": 4,
   "id": "dd4c178e",
   "metadata": {},
   "outputs": [
    {
     "data": {
      "text/html": [
       "<div>\n",
       "<style scoped>\n",
       "    .dataframe tbody tr th:only-of-type {\n",
       "        vertical-align: middle;\n",
       "    }\n",
       "\n",
       "    .dataframe tbody tr th {\n",
       "        vertical-align: top;\n",
       "    }\n",
       "\n",
       "    .dataframe thead th {\n",
       "        text-align: right;\n",
       "    }\n",
       "</style>\n",
       "<table border=\"1\" class=\"dataframe\">\n",
       "  <thead>\n",
       "    <tr style=\"text-align: right;\">\n",
       "      <th></th>\n",
       "      <th>CustomerID</th>\n",
       "      <th>Genre</th>\n",
       "      <th>Age</th>\n",
       "      <th>Annual Income (k$)</th>\n",
       "      <th>Spending Score (1-100)</th>\n",
       "    </tr>\n",
       "  </thead>\n",
       "  <tbody>\n",
       "    <tr>\n",
       "      <th>0</th>\n",
       "      <td>1</td>\n",
       "      <td>Male</td>\n",
       "      <td>19</td>\n",
       "      <td>15</td>\n",
       "      <td>39</td>\n",
       "    </tr>\n",
       "    <tr>\n",
       "      <th>1</th>\n",
       "      <td>2</td>\n",
       "      <td>Male</td>\n",
       "      <td>21</td>\n",
       "      <td>15</td>\n",
       "      <td>81</td>\n",
       "    </tr>\n",
       "    <tr>\n",
       "      <th>2</th>\n",
       "      <td>3</td>\n",
       "      <td>Female</td>\n",
       "      <td>20</td>\n",
       "      <td>16</td>\n",
       "      <td>6</td>\n",
       "    </tr>\n",
       "    <tr>\n",
       "      <th>3</th>\n",
       "      <td>4</td>\n",
       "      <td>Female</td>\n",
       "      <td>23</td>\n",
       "      <td>16</td>\n",
       "      <td>77</td>\n",
       "    </tr>\n",
       "    <tr>\n",
       "      <th>4</th>\n",
       "      <td>5</td>\n",
       "      <td>Female</td>\n",
       "      <td>31</td>\n",
       "      <td>17</td>\n",
       "      <td>40</td>\n",
       "    </tr>\n",
       "  </tbody>\n",
       "</table>\n",
       "</div>"
      ],
      "text/plain": [
       "   CustomerID   Genre  Age  Annual Income (k$)  Spending Score (1-100)\n",
       "0           1    Male   19                  15                      39\n",
       "1           2    Male   21                  15                      81\n",
       "2           3  Female   20                  16                       6\n",
       "3           4  Female   23                  16                      77\n",
       "4           5  Female   31                  17                      40"
      ]
     },
     "execution_count": 4,
     "metadata": {},
     "output_type": "execute_result"
    }
   ],
   "source": [
    "# Importing the Data\n",
    "\n",
    "df = pd.read_csv('Mall_Customers_BP.csv')\n",
    "df.head()"
   ]
  },
  {
   "cell_type": "code",
   "execution_count": 5,
   "id": "9eb3bf62",
   "metadata": {},
   "outputs": [
    {
     "data": {
      "text/plain": [
       "CustomerID                0\n",
       "Genre                     0\n",
       "Age                       0\n",
       "Annual Income (k$)        0\n",
       "Spending Score (1-100)    0\n",
       "dtype: int64"
      ]
     },
     "execution_count": 5,
     "metadata": {},
     "output_type": "execute_result"
    }
   ],
   "source": [
    "# Getting an idea about the NULL Values\n",
    "\n",
    "df.isnull().sum()"
   ]
  },
  {
   "cell_type": "code",
   "execution_count": 6,
   "id": "dfe07d74",
   "metadata": {},
   "outputs": [
    {
     "data": {
      "text/plain": [
       "CustomerID                 int64\n",
       "Genre                     object\n",
       "Age                        int64\n",
       "Annual Income (k$)         int64\n",
       "Spending Score (1-100)     int64\n",
       "dtype: object"
      ]
     },
     "execution_count": 6,
     "metadata": {},
     "output_type": "execute_result"
    }
   ],
   "source": [
    "# Checking for data types of each column\n",
    "df.dtypes"
   ]
  },
  {
   "cell_type": "markdown",
   "id": "e79eb302",
   "metadata": {},
   "source": [
    "####  EDA \n",
    "(1) 56% Female, 44% Male"
   ]
  },
  {
   "cell_type": "markdown",
   "id": "5bd1e3bc",
   "metadata": {},
   "source": [
    "#### Data Pre-processing Steps:\n",
    "\n",
    "1) Detecting and Removing outliers in the data<br>\n",
    "2) Scaling<br>\n",
    "3) Elbow method (Finding optimal number of clustering)<br>"
   ]
  },
  {
   "cell_type": "code",
   "execution_count": 7,
   "id": "f39733b5",
   "metadata": {},
   "outputs": [
    {
     "name": "stderr",
     "output_type": "stream",
     "text": [
      "C:\\Users\\shala\\anaconda3\\lib\\site-packages\\seaborn\\distributions.py:2619: FutureWarning: `distplot` is a deprecated function and will be removed in a future version. Please adapt your code to use either `displot` (a figure-level function with similar flexibility) or `histplot` (an axes-level function for histograms).\n",
      "  warnings.warn(msg, FutureWarning)\n"
     ]
    },
    {
     "data": {
      "text/plain": [
       "<AxesSubplot:xlabel='Annual Income (k$)', ylabel='Density'>"
      ]
     },
     "execution_count": 7,
     "metadata": {},
     "output_type": "execute_result"
    },
    {
     "data": {
      "image/png": "[encoded data removed]",
      "text/plain": [
       "<Figure size 432x288 with 1 Axes>"
      ]
     },
     "metadata": {
      "needs_background": "light"
     },
     "output_type": "display_data"
    }
   ],
   "source": [
    "import seaborn as sns\n",
    "\n",
    "# Detecting Outliers in Annual Income column\n",
    "sns.distplot(df['Annual Income (k$)'], kde = True)"
   ]
  },
  {
   "cell_type": "code",
   "execution_count": 8,
   "id": "9226114b",
   "metadata": {},
   "outputs": [],
   "source": [
    "# Removing the Outliers from Annual Income Column\n",
    "\n",
    "df = df[df['Annual Income (k$)'] < 125]"
   ]
  },
  {
   "cell_type": "code",
   "execution_count": 9,
   "id": "e11c8f4a",
   "metadata": {},
   "outputs": [
    {
     "name": "stderr",
     "output_type": "stream",
     "text": [
      "C:\\Users\\shala\\anaconda3\\lib\\site-packages\\seaborn\\distributions.py:2619: FutureWarning: `distplot` is a deprecated function and will be removed in a future version. Please adapt your code to use either `displot` (a figure-level function with similar flexibility) or `histplot` (an axes-level function for histograms).\n",
      "  warnings.warn(msg, FutureWarning)\n"
     ]
    },
    {
     "data": {
      "text/plain": [
       "<AxesSubplot:xlabel='Annual Income (k$)', ylabel='Density'>"
      ]
     },
     "execution_count": 9,
     "metadata": {},
     "output_type": "execute_result"
    },
    {
     "data": {
      "image/png": "[encoded data removed]",
      "text/plain": [
       "<Figure size 432x288 with 1 Axes>"
      ]
     },
     "metadata": {
      "needs_background": "light"
     },
     "output_type": "display_data"
    }
   ],
   "source": [
    "import seaborn as sns\n",
    "\n",
    "sns.distplot(df['Annual Income (k$)'], kde = True)"
   ]
  },
  {
   "cell_type": "code",
   "execution_count": 10,
   "id": "21f42a17",
   "metadata": {},
   "outputs": [
    {
     "name": "stderr",
     "output_type": "stream",
     "text": [
      "C:\\Users\\shala\\anaconda3\\lib\\site-packages\\seaborn\\distributions.py:2619: FutureWarning: `distplot` is a deprecated function and will be removed in a future version. Please adapt your code to use either `displot` (a figure-level function with similar flexibility) or `histplot` (an axes-level function for histograms).\n",
      "  warnings.warn(msg, FutureWarning)\n"
     ]
    },
    {
     "data": {
      "text/plain": [
       "<AxesSubplot:xlabel='Spending Score (1-100)', ylabel='Density'>"
      ]
     },
     "execution_count": 10,
     "metadata": {},
     "output_type": "execute_result"
    },
    {
     "data": {
      "image/png": "[encoded data removed]",
      "text/plain": [
       "<Figure size 432x288 with 1 Axes>"
      ]
     },
     "metadata": {
      "needs_background": "light"
     },
     "output_type": "display_data"
    }
   ],
   "source": [
    "# Detecting Outliers in Spending Score column\n",
    "sns.distplot(df['Spending Score (1-100)'], kde = True)"
   ]
  },
  {
   "cell_type": "markdown",
   "id": "de157665",
   "metadata": {},
   "source": [
    "There are no outliers present in Spending Score column, as the distribution curve appeas to be normal."
   ]
  },
  {
   "cell_type": "code",
   "execution_count": 12,
   "id": "2eec182b",
   "metadata": {},
   "outputs": [
    {
     "data": {
      "text/html": [
       "<div>\n",
       "<style scoped>\n",
       "    .dataframe tbody tr th:only-of-type {\n",
       "        vertical-align: middle;\n",
       "    }\n",
       "\n",
       "    .dataframe tbody tr th {\n",
       "        vertical-align: top;\n",
       "    }\n",
       "\n",
       "    .dataframe thead th {\n",
       "        text-align: right;\n",
       "    }\n",
       "</style>\n",
       "<table border=\"1\" class=\"dataframe\">\n",
       "  <thead>\n",
       "    <tr style=\"text-align: right;\">\n",
       "      <th></th>\n",
       "      <th>CustomerID</th>\n",
       "      <th>Genre</th>\n",
       "      <th>Age</th>\n",
       "      <th>Annual Income (k$)</th>\n",
       "      <th>Spending Score (1-100)</th>\n",
       "    </tr>\n",
       "  </thead>\n",
       "  <tbody>\n",
       "    <tr>\n",
       "      <th>0</th>\n",
       "      <td>1</td>\n",
       "      <td>Male</td>\n",
       "      <td>19</td>\n",
       "      <td>-1.808460</td>\n",
       "      <td>-0.435233</td>\n",
       "    </tr>\n",
       "    <tr>\n",
       "      <th>1</th>\n",
       "      <td>2</td>\n",
       "      <td>Male</td>\n",
       "      <td>21</td>\n",
       "      <td>-1.808460</td>\n",
       "      <td>1.198529</td>\n",
       "    </tr>\n",
       "    <tr>\n",
       "      <th>2</th>\n",
       "      <td>3</td>\n",
       "      <td>Female</td>\n",
       "      <td>20</td>\n",
       "      <td>-1.767464</td>\n",
       "      <td>-1.718903</td>\n",
       "    </tr>\n",
       "    <tr>\n",
       "      <th>3</th>\n",
       "      <td>4</td>\n",
       "      <td>Female</td>\n",
       "      <td>23</td>\n",
       "      <td>-1.767464</td>\n",
       "      <td>1.042932</td>\n",
       "    </tr>\n",
       "    <tr>\n",
       "      <th>4</th>\n",
       "      <td>5</td>\n",
       "      <td>Female</td>\n",
       "      <td>31</td>\n",
       "      <td>-1.726467</td>\n",
       "      <td>-0.396334</td>\n",
       "    </tr>\n",
       "  </tbody>\n",
       "</table>\n",
       "</div>"
      ],
      "text/plain": [
       "   CustomerID   Genre  Age  Annual Income (k$)  Spending Score (1-100)\n",
       "0           1    Male   19           -1.808460               -0.435233\n",
       "1           2    Male   21           -1.808460                1.198529\n",
       "2           3  Female   20           -1.767464               -1.718903\n",
       "3           4  Female   23           -1.767464                1.042932\n",
       "4           5  Female   31           -1.726467               -0.396334"
      ]
     },
     "execution_count": 12,
     "metadata": {},
     "output_type": "execute_result"
    }
   ],
   "source": [
    "# Scaling\n",
    "\n",
    "scaler = StandardScaler()\n",
    "df[['Annual Income (k$)', 'Spending Score (1-100)']] = scaler.fit_transform(df[['Annual Income (k$)', 'Spending Score (1-100)']])\n",
    "df.head()"
   ]
  },
  {
   "cell_type": "code",
   "execution_count": null,
   "id": "32f5a08b",
   "metadata": {},
   "outputs": [],
   "source": [
    "# Distortion or Inertia -> Compactness of a CLuster"
   ]
  },
  {
   "cell_type": "code",
   "execution_count": 15,
   "id": "1c7dcf5c",
   "metadata": {},
   "outputs": [
    {
     "name": "stderr",
     "output_type": "stream",
     "text": [
      "C:\\Users\\shala\\anaconda3\\lib\\site-packages\\sklearn\\cluster\\_kmeans.py:1036: UserWarning: KMeans is known to have a memory leak on Windows with MKL, when there are less chunks than available threads. You can avoid it by setting the environment variable OMP_NUM_THREADS=1.\n",
      "  warnings.warn(\n"
     ]
    }
   ],
   "source": [
    "# Elbow Curve\n",
    "\n",
    "distortions = []\n",
    "inertias = []\n",
    "mapping1 = {}\n",
    "mapping2 = {}\n",
    "K = range(1, 15)\n",
    "\n",
    "# Making a separate array file\n",
    "array1 = df['Annual Income (k$)'].to_numpy()\n",
    "array2 = df['Spending Score (1-100)'].to_numpy()\n",
    "array = np.array(list(zip(array1, array2))).reshape(len(array1), 2)\n",
    "\n",
    "for k in K:\n",
    "    kmeanModel = KMeans(n_clusters = k)\n",
    "    kmeanModel.fit(array)\n",
    "    distortions.append(sum(np.min(cdist(array, kmeanModel.cluster_centers_, 'euclidean'), axis=1)) / array.shape[0])\n",
    "    inertias.append(kmeanModel.inertia_)\n",
    "    \n",
    "    mapping1[k] = sum(np.min(cdist(array, kmeanModel.cluster_centers_, 'euclidean'), axis=1)) / array.shape[0]\n",
    "    mapping2[k] = kmeanModel.inertia_"
   ]
  },
  {
   "cell_type": "code",
   "execution_count": 16,
   "id": "788e09d6",
   "metadata": {},
   "outputs": [
    {
     "name": "stdout",
     "output_type": "stream",
     "text": [
      "1 : 1.2015316793540507\n",
      "2 : 1.0328767473225635\n",
      "3 : 0.7522947351315308\n",
      "4 : 0.6309799253911533\n",
      "5 : 0.4888216080702239\n",
      "6 : 0.4332826412486286\n",
      "7 : 0.4033953417561852\n",
      "8 : 0.3776981751220798\n",
      "9 : 0.3522700151748928\n",
      "10 : 0.3300298282947974\n",
      "11 : 0.3131819330048815\n",
      "12 : 0.2996630668442097\n",
      "13 : 0.27958323422711\n",
      "14 : 0.27708202577788255\n"
     ]
    },
    {
     "data": {
      "image/png": "[encoded data removed]",
      "text/plain": [
       "<Figure size 432x288 with 1 Axes>"
      ]
     },
     "metadata": {
      "needs_background": "light"
     },
     "output_type": "display_data"
    }
   ],
   "source": [
    "# Using distortions\n",
    "\n",
    "for key, val in mapping1.items():\n",
    "    print(str(key) + ' : ' + str(val))\n",
    "\n",
    "# Plot\n",
    "plt.plot(K, distortions, 'bx-')\n",
    "plt.xlabel('Values of K')\n",
    "plt.ylabel('Distortions')\n",
    "plt.title('Elbow Method using Distortions')\n",
    "plt.show()"
   ]
  },
  {
   "cell_type": "markdown",
   "id": "b04a6b8a",
   "metadata": {},
   "source": [
    "Elbow point is k=5<br>\n",
    "There is a steep decrease in distortions until k=5<br>\n",
    "After k=5 there still is a decrease but it is not steep, so k=5 is the optimal number for clusters<br>"
   ]
  },
  {
   "cell_type": "code",
   "execution_count": 19,
   "id": "9d067d58",
   "metadata": {},
   "outputs": [
    {
     "name": "stdout",
     "output_type": "stream",
     "text": [
      "1 : 392.0\n",
      "2 : 258.5419516528517\n",
      "3 : 154.8833101089537\n",
      "4 : 103.94047329878384\n",
      "5 : 57.52267788325068\n",
      "6 : 48.53062735991557\n",
      "7 : 41.39679992950305\n",
      "8 : 34.905461116828015\n",
      "9 : 30.158814072173996\n",
      "10 : 27.028872803138494\n",
      "11 : 23.985101078559005\n",
      "12 : 21.576802264672388\n",
      "13 : 19.324468852090426\n",
      "14 : 18.673010641807405\n"
     ]
    },
    {
     "data": {
      "image/png": "[encoded data removed]",
      "text/plain": [
       "<Figure size 432x288 with 1 Axes>"
      ]
     },
     "metadata": {
      "needs_background": "light"
     },
     "output_type": "display_data"
    }
   ],
   "source": [
    "# Using inertia\n",
    "\n",
    "for key, val in mapping2.items():\n",
    "    print(str(key) + ' : ' + str(val))\n",
    "\n",
    "# Plot\n",
    "plt.plot(K, inertias, 'bx-')\n",
    "plt.xlabel('Values of K')\n",
    "plt.ylabel('Inertias')\n",
    "plt.title('Elbow Method using Inertias')\n",
    "plt.show()"
   ]
  },
  {
   "cell_type": "code",
   "execution_count": 20,
   "id": "16176e91",
   "metadata": {},
   "outputs": [
    {
     "name": "stdout",
     "output_type": "stream",
     "text": [
      "Centroids: \n",
      " [[-1.36867665  1.13487562]\n",
      " [ 1.04195523 -1.23698675]\n",
      " [ 1.02475012  1.2500437 ]\n",
      " [-0.18435683 -0.00634578]\n",
      " [-1.34501842 -1.13879942]]\n"
     ]
    }
   ],
   "source": [
    "# Training the Optimal Model and getting the Centroids\n",
    "\n",
    "data = pd.DataFrame(array, columns = ('Annual Income (k$)', 'Spending Score (1-100)'))\n",
    "\n",
    "kmeans = KMeans(n_clusters = 5).fit(data)\n",
    "centroids = kmeans.cluster_centers_\n",
    "print('Centroids: \\n', centroids)"
   ]
  },
  {
   "cell_type": "code",
   "execution_count": 26,
   "id": "a00708e0",
   "metadata": {},
   "outputs": [
    {
     "data": {
      "image/png": "[encoded data removed]",
      "text/plain": [
       "<Figure size 432x288 with 1 Axes>"
      ]
     },
     "metadata": {
      "needs_background": "light"
     },
     "output_type": "display_data"
    }
   ],
   "source": [
    "# Plot\n",
    "\n",
    "plt.scatter(data['Annual Income (k$)'], data['Spending Score (1-100)'], c=kmeans.labels_.astype('float'))\n",
    "plt.scatter(centroids[:, 0], centroids[:, 1], c='red')\n",
    "plt.xlabel('Annual Income')\n",
    "plt.ylabel('Spending Score')\n",
    "plt.show()"
   ]
  },
  {
   "cell_type": "markdown",
   "id": "f19855e9",
   "metadata": {},
   "source": [
    "BUSINESS INSIGHTS:\n",
    "\n",
    "Yellow coloured cluster represents LOW Annual Income and LOW Spending Score<br><br>\n",
    "Purple coloured cluster represents LOW Annual Income but HIGH Spending Score<br><br>\n",
    "Green coloured cluster represents MEDIUM Annual Income and MEDIUM Spending Score<br><br>\n",
    "Dark-Blue coloured cluster represents HIGH Annual Income but LOW Spending Score<br><br>\n",
    "Peacock-Green coloured cluster represents HIGH Annual Income and HIGH Spending Score"
   ]
  },
  {
   "cell_type": "markdown",
   "id": "245865d2",
   "metadata": {},
   "source": [
    "Assignment:\n",
    "\n",
    "Create separate clusters for Male and Female Members and give some business insights on Annual Income and Spending Score columns<br>\n",
    "Separate out clusters and generate some peculiarities between Males and Females' spending scores and annual incomes\n",
    "\n",
    "Click <a href=\"https://github.com/shalaka-thorat/Customer-Segmentation-using-KMeans/blob/main/Customer-Segmentation%20Part%202.ipynb\">HERE</a> to go to the Solved Assignment i.e. PART 2: Clustering based on Gender"
   ]
  }
 ],
 "metadata": {
  "kernelspec": {
   "display_name": "Python 3 (ipykernel)",
   "language": "python",
   "name": "python3"
  },
  "language_info": {
   "codemirror_mode": {
    "name": "ipython",
    "version": 3
   },
   "file_extension": ".py",
   "mimetype": "text/x-python",
   "name": "python",
   "nbconvert_exporter": "python",
   "pygments_lexer": "ipython3",
   "version": "3.9.12"
  }
 },
 "nbformat": 4,
 "nbformat_minor": 5
}
